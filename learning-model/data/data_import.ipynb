{
 "cells": [
  {
   "cell_type": "code",
   "execution_count": 41,
   "metadata": {},
   "outputs": [
    {
     "name": "stderr",
     "output_type": "stream",
     "text": [
      "100%|██████████| 25/25 [00:00<00:00, 281.79it/s]\n",
      "  0%|          | 0/72 [00:00<?, ?it/s]"
     ]
    },
    {
     "name": "stdout",
     "output_type": "stream",
     "text": [
      "C:\\Users\\Asus\\Documents\\GitHub\\disaster-site-analysis\\learning-model\\data\\normal\n",
      "C:\\Users\\Asus\\Documents\\GitHub\\disaster-site-analysis\\learning-model\\data\\disaster\n"
     ]
    },
    {
     "name": "stderr",
     "output_type": "stream",
     "text": [
      "100%|██████████| 72/72 [00:01<00:00, 59.32it/s]"
     ]
    },
    {
     "name": "stdout",
     "output_type": "stream",
     "text": [
      "194\n"
     ]
    },
    {
     "name": "stderr",
     "output_type": "stream",
     "text": [
      "\n"
     ]
    }
   ],
   "source": [
    "import os\n",
    "import cv2\n",
    "import numpy as np\n",
    "import tqdm as tq\n",
    "import matplotlib.pyplot as plt\n",
    "\n",
    "Rebuild_Data=True\n",
    "class DisasterVSNonDisaster():\n",
    "    Img_size = 50\n",
    "    #what to put in img_size, is 50 okay?\n",
    "    Disaster = \"C:\\\\Users\\\\Asus\\\\Documents\\\\GitHub\\\\disaster-site-analysis\\\\learning-model\\\\data\\\\disaster\"\n",
    "    NonDisaster = \"C:\\\\Users\\\\Asus\\\\Documents\\\\GitHub\\\\disaster-site-analysis\\\\learning-model\\\\data\\\\normal\"\n",
    "    Labels = {NonDisaster:0,Disaster:1}\n",
    "    Training_data=[]\n",
    "    Disaster_count=0\n",
    "    non_Disaster_Count=0\n",
    "    def make_training_data(self):\n",
    "        for label in self.Labels:\n",
    "            print(label)\n",
    "            for f in tq.tqdm(os.listdir(label)):\n",
    "                try:\n",
    "                    \n",
    "                    path=os.path.join(label,f)\n",
    "                    #print(path)\n",
    "                    img=cv2.imread(path,cv2.IMREAD_COLOR)\n",
    "                    img=cv2.resize(img,(self.Img_size,self.Img_size))\n",
    "                    #print(img)\n",
    "                    #arr=np.array(img)\n",
    "                    #arrr=np.eye(2)[self.Labels[label]]\n",
    "                    #print(arrr)\n",
    "                    self.Training_data.append([np.array(img),np.eye(2)[self.Labels[label]]])\n",
    "                    if label==self.NonDisaster:\n",
    "                        self.non_Disaster_count+=1\n",
    "                    elif label==self.Disaster:\n",
    "                        self.Disaster_count+=1\n",
    "                        \n",
    "                        \n",
    "                except Exception as e:\n",
    "                    pass\n",
    "        np.random.shuffle(self.Training_data)\n",
    "        print(np.size(self.Training_data))\n",
    "        np.save(\"training_data.npy\",self.Training_data)\n",
    "\n",
    "        \n",
    "if Rebuild_Data:\n",
    "    dvnd=DisasterVSNonDisaster()\n",
    "    dvnd.make_training_data()\n",
    "\n",
    "        \n",
    "        "
   ]
  },
  {
   "cell_type": "code",
   "execution_count": null,
   "metadata": {},
   "outputs": [],
   "source": []
  },
  {
   "cell_type": "code",
   "execution_count": null,
   "metadata": {},
   "outputs": [],
   "source": []
  }
 ],
 "metadata": {
  "kernelspec": {
   "display_name": "Python 3",
   "language": "python",
   "name": "python3"
  },
  "language_info": {
   "codemirror_mode": {
    "name": "ipython",
    "version": 3
   },
   "file_extension": ".py",
   "mimetype": "text/x-python",
   "name": "python",
   "nbconvert_exporter": "python",
   "pygments_lexer": "ipython3",
   "version": "3.8.3"
  }
 },
 "nbformat": 4,
 "nbformat_minor": 4
}
